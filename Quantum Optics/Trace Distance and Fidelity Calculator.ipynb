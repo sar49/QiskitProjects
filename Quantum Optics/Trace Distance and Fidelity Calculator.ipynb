{
 "cells": [
  {
   "cell_type": "code",
   "execution_count": 2,
   "id": "b8bb9372",
   "metadata": {},
   "outputs": [],
   "source": [
    "import math\n",
    "import numpy as np\n",
    "from numpy.linalg import det\n",
    "from scipy import linalg as slg"
   ]
  },
  {
   "cell_type": "code",
   "execution_count": 3,
   "id": "f93e6330",
   "metadata": {},
   "outputs": [],
   "source": [
    "def trace_distance(rho: np.ndarray, sigma: np.ndarray) -> float:\n",
    "    r\"\"\"\n",
    "    Computes the trace distance between two states rho and sigma:\n",
    "\n",
    "    .. math::\n",
    "\n",
    "        T(\\rho, \\sigma) = (1/2)||\\rho-\\sigma||_1\n",
    "\n",
    "    where :math:`||X||_1` denotes the 1 norm of X.\n",
    "\n",
    "    :param rho: Is a dim by dim positive matrix with unit trace.\n",
    "    :param sigma: Is a dim by dim positive matrix with unit trace.\n",
    "    :return: Trace distance which is a scalar.\n",
    "    \"\"\"\n",
    "    mat_sub = np.subtract(rho, sigma)\n",
    "    \n",
    "    \n",
    "    \n",
    "    return (0.5) * np.trace(np.dot(np.conjugate(mat_sub.transpose()), mat_sub))\n",
    "    print(det(rho).real)\n"
   ]
  },
  {
   "cell_type": "code",
   "execution_count": 4,
   "id": "01ed7079",
   "metadata": {},
   "outputs": [],
   "source": [
    "def fidelity(rho, sigma):\n",
    "    reg = np.dot(slg.sqrtm(rho), slg.sqrtm(sigma))\n",
    "    #return np.trace(slg.norm(reg))\n",
    "    return (np.trace(slg.sqrtm(np.dot(np.conjugate(reg.transpose()), reg))))** 2\n",
    "    #return np.trace(np.multiply(rho, sigma)) + 2 * math.sqrt((det(rho) * det(sigma)).real)"
   ]
  },
  {
   "cell_type": "code",
   "execution_count": 5,
   "id": "e4a9392b",
   "metadata": {},
   "outputs": [],
   "source": [
    "def print_info(rho, sigma):\n",
    "    print(\"Trace distance\")\n",
    "    print(trace_distance(rho, sigma))\n",
    "    print(\"Fidelity\")\n",
    "    print(fidelity(rho, sigma))"
   ]
  },
  {
   "cell_type": "code",
   "execution_count": 6,
   "id": "cf7f9415",
   "metadata": {},
   "outputs": [
    {
     "name": "stdout",
     "output_type": "stream",
     "text": [
      "Trace distance\n",
      "(0.011050999999999998+0j)\n",
      "Fidelity\n",
      "(0.9902464563937208+2.7633372606148164e-17j)\n"
     ]
    }
   ],
   "source": [
    "h_mat = np.array([[1, 0], [0, 0]])\n",
    "v_mat = np.array([[0, 0], [0, 1]])\n",
    "plus_mat = np.array([[.5, 0], [0, .5]])\n",
    "\n",
    "mat_1 = np.array([[.587, -.005j - .493], [.005j - .493, .413]])\n",
    "mat_2 = np.array([[.506, -.494 - .072j], [-.494 + .072j, .494]])\n",
    "\n",
    "print_info(mat_1, mat_2)"
   ]
  },
  {
   "cell_type": "code",
   "execution_count": 7,
   "id": "33bbccbb",
   "metadata": {},
   "outputs": [
    {
     "data": {
      "text/plain": [
       "0.0"
      ]
     },
     "execution_count": 7,
     "metadata": {},
     "output_type": "execute_result"
    }
   ],
   "source": [
    "det(h_mat)"
   ]
  },
  {
   "cell_type": "code",
   "execution_count": 8,
   "id": "12380917",
   "metadata": {},
   "outputs": [],
   "source": [
    "def half_wp(x):\n",
    "    x = math.radians(x)\n",
    "    hwp_mat = np.array([[math.cos(2 * x), math.sin(2 * x)], [math.sin(2 * x), math.cos(2 * x) * - 1]])\n",
    "    return hwp_mat"
   ]
  },
  {
   "cell_type": "code",
   "execution_count": 9,
   "id": "c93a56a5",
   "metadata": {},
   "outputs": [],
   "source": [
    "def quart_wp(x):\n",
    "    x = math.radians(x)\n",
    "    quart_mat = np.array([[(math.cos(x) **2) + (1j * math.sin(x) **2), (1 - 1j) * math.sin(x) * \n",
    "                           math.cos(x)], [(1 - 1j) * math.sin(x) * math.cos(x), (math.sin(x) **2)\n",
    "                            + (1j * math.cos(x) **2)]])\n",
    "    return quart_mat"
   ]
  },
  {
   "cell_type": "code",
   "execution_count": 28,
   "id": "09bf759d",
   "metadata": {},
   "outputs": [],
   "source": [
    "def calc_state(hwp, qwp = 'a'):\n",
    "    if qwp != 'a':\n",
    "        return np.dot(np.dot(quart_wp(qwp), half_wp(hwp)), np.array([[1], [0]]))\n",
    "    else:\n",
    "        return np.dot(half_wp(hwp), np.array([[1], [0]]))\n"
   ]
  },
  {
   "cell_type": "code",
   "execution_count": 29,
   "id": "0038113a",
   "metadata": {
    "scrolled": false
   },
   "outputs": [
    {
     "name": "stdout",
     "output_type": "stream",
     "text": [
      "[[0.70710678+0.j        ]\n",
      " [0.        +0.70710678j]]\n"
     ]
    }
   ],
   "source": [
    "print(calc_state(22.5, 0))"
   ]
  },
  {
   "cell_type": "code",
   "execution_count": null,
   "id": "46f6d3b1",
   "metadata": {},
   "outputs": [],
   "source": []
  },
  {
   "cell_type": "code",
   "execution_count": null,
   "id": "09870ee4",
   "metadata": {},
   "outputs": [],
   "source": []
  }
 ],
 "metadata": {
  "kernelspec": {
   "display_name": "Python 3",
   "language": "python",
   "name": "python3"
  },
  "language_info": {
   "codemirror_mode": {
    "name": "ipython",
    "version": 3
   },
   "file_extension": ".py",
   "mimetype": "text/x-python",
   "name": "python",
   "nbconvert_exporter": "python",
   "pygments_lexer": "ipython3",
   "version": "3.8.8"
  }
 },
 "nbformat": 4,
 "nbformat_minor": 5
}
