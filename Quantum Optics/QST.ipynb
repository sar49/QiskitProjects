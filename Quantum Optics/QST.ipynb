{
 "cells": [
  {
   "cell_type": "code",
   "execution_count": 1,
   "metadata": {},
   "outputs": [],
   "source": [
    "import numpy as np"
   ]
  },
  {
   "cell_type": "code",
   "execution_count": 10,
   "metadata": {},
   "outputs": [],
   "source": [
    "# input 0 power amount and 1 power amount\n",
    "x_powers = [.179, .558]\n",
    "y_powers = [.072, .623]\n",
    "z_powers = [0.116, 0.603]"
   ]
  },
  {
   "cell_type": "code",
   "execution_count": 17,
   "metadata": {},
   "outputs": [],
   "source": [
    "def density_matrix(x_powers, y_powers, z_powers):\n",
    "    #matrices\n",
    "    x_matrix = np.array([[0, 1], [1, 0]])\n",
    "    y_matrix = np.array([[0, -1j], [1j, 0]])\n",
    "    z_matrix = np.array([[1, 0], [0, -1]])\n",
    "    i_matrix = np.array([[1, 0], [0, 1]])\n",
    "    \n",
    "    #calculates expectation values\n",
    "    x_expectation = ((x_powers[0] / (x_powers[0] + x_powers[1])) -\n",
    "    (x_powers[1] / (x_powers[0] + x_powers[1])))\n",
    "    \n",
    "    y_expectation = ((y_powers[0] / (y_powers[0] + y_powers[1])) -\n",
    "    (y_powers[1] / (y_powers[0] + y_powers[1])))\n",
    "    \n",
    "    z_expectation = ((z_powers[0] / (z_powers[0] + z_powers[1])) -\n",
    "    (z_powers[1] / (z_powers[0] + z_powers[1])))\n",
    "    \n",
    "    sum = (i_matrix + x_expectation * x_matrix + y_expectation * y_matrix +\n",
    "           z_expectation * z_matrix)\n",
    "    \n",
    "    #prints density matrix\n",
    "    return(sum / 2)"
   ]
  },
  {
   "cell_type": "code",
   "execution_count": 18,
   "metadata": {},
   "outputs": [],
   "source": [
    "rho1=density_matrix(x_powers, y_powers, z_powers)"
   ]
  },
  {
   "cell_type": "code",
   "execution_count": 20,
   "metadata": {},
   "outputs": [
    {
     "name": "stdout",
     "output_type": "stream",
     "text": [
      "[[ 0.16133519+0.j         -0.25712347+0.39640288j]\n",
      " [-0.25712347-0.39640288j  0.83866481+0.j        ]]\n"
     ]
    }
   ],
   "source": [
    "print(rho1)"
   ]
  },
  {
   "cell_type": "code",
   "execution_count": 19,
   "metadata": {},
   "outputs": [
    {
     "name": "stdout",
     "output_type": "stream",
     "text": [
      "[[ 0.24927676+0.j         -0.25712347+0.39640288j]\n",
      " [-0.25712347-0.39640288j  0.92660639+0.j        ]]\n"
     ]
    }
   ],
   "source": [
    "print(rho1@rho1)"
   ]
  },
  {
   "cell_type": "code",
   "execution_count": null,
   "metadata": {},
   "outputs": [],
   "source": []
  }
 ],
 "metadata": {
  "kernelspec": {
   "display_name": "Python 3 (ipykernel)",
   "language": "python",
   "name": "python3"
  },
  "language_info": {
   "codemirror_mode": {
    "name": "ipython",
    "version": 3
   },
   "file_extension": ".py",
   "mimetype": "text/x-python",
   "name": "python",
   "nbconvert_exporter": "python",
   "pygments_lexer": "ipython3",
   "version": "3.9.12"
  },
  "vscode": {
   "interpreter": {
    "hash": "aee8b7b246df8f9039afb4144a1f6fd8d2ca17a180786b69acc140d282b71a49"
   }
  }
 },
 "nbformat": 4,
 "nbformat_minor": 2
}
