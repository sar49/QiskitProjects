{
 "cells": [
  {
   "cell_type": "code",
   "execution_count": 18,
   "id": "57ee9016",
   "metadata": {},
   "outputs": [],
   "source": [
    "# BACKGROUND\n",
    "# Alice wants to send a two bit message to Bob using qubits\n",
    "# Simple way is to use two qubits\n",
    "from qiskit import *\n",
    "from qiskit import Aer\n",
    "from qiskit.quantum_info import Statevector"
   ]
  },
  {
   "cell_type": "code",
   "execution_count": 19,
   "id": "46664d61",
   "metadata": {},
   "outputs": [],
   "source": [
    "MESSAGE = \"00\"\n",
    "# Alice encodes the message\n",
    "qc_alice = QuantumCircuit(2, 2)\n",
    "if MESSAGE[-1] == '1':\n",
    "    qc_alice.x(0)\n",
    "if MESSAGE[-2] == '1':\n",
    "    qc_alice.x(1)"
   ]
  },
  {
   "cell_type": "code",
   "execution_count": 20,
   "id": "76652ef2",
   "metadata": {},
   "outputs": [
    {
     "data": {
      "text/plain": [
       "{'00': 1024}"
      ]
     },
     "execution_count": 20,
     "metadata": {},
     "output_type": "execute_result"
    }
   ],
   "source": [
    "backend = Aer.get_backend('aer_simulator')\n",
    "\n",
    "# Bob measures\n",
    "qc_bob = QuantumCircuit(2, 2)\n",
    "qc_bob.measure([0, 1], [0, 1])\n",
    "\n",
    "backend.run(qc_alice.compose(qc_bob)).result().get_counts()\n",
    "# no quantum effects used"
   ]
  },
  {
   "cell_type": "code",
   "execution_count": 50,
   "id": "c00dc5b1",
   "metadata": {},
   "outputs": [
    {
     "data": {
      "text/latex": [
       "$$\n",
       "\n",
       "\\begin{bmatrix}\n",
       "\\tfrac{1}{\\sqrt{2}} & 0 & 0 & \\tfrac{1}{\\sqrt{2}}  \\\\\n",
       " \\end{bmatrix}\n",
       "$$"
      ],
      "text/plain": [
       "<IPython.core.display.Latex object>"
      ]
     },
     "execution_count": 50,
     "metadata": {},
     "output_type": "execute_result"
    }
   ],
   "source": [
    "MESSAGE = '00'\n",
    "\n",
    "qc_alice = QuantumCircuit(2,2)\n",
    "\n",
    "#lets look at the states created by Alice if she uses the gates\n",
    "qc_alice.h(1)\n",
    "qc_alice.cx(1, 0)\n",
    "\n",
    "# Alice encodes the message\n",
    "if MESSAGE[-1]=='1':\n",
    "    qc_alice.x(0)\n",
    "if MESSAGE[-2]=='1':\n",
    "    qc_alice.x(1)\n",
    "    \n",
    "ket = Statevector(qc_alice)\n",
    "ket.draw(\"Latex\")\n",
    "\n",
    "# 1/sqrt(2) [1 0 0 1]\n",
    "\n",
    "# for the other message, there are different entanlged states"
   ]
  },
  {
   "cell_type": "code",
   "execution_count": null,
   "id": "911f170c",
   "metadata": {},
   "outputs": [],
   "source": [
    "# Alice could send her message by creating an entangled state first, and then changin it using\n",
    "# x and z gates to encode the correct message\n",
    "\n",
    "MESSAGE = \"00\"\n",
    "qc_alice = QuantumCircuit(2, 2)\n",
    "qc_alice.h(1)\n",
    "qc_alice.cx(1, 0)\n",
    "\n",
    "if MESSAGE[-2] == '1':\n",
    "    qc_alice.x(1)\n",
    "if MESSAGE[-1] == '1':\n",
    "    qc_alice.z(1)\n",
    "    \n",
    "ket = Statevector(qc_alice)\n",
    "ket.draw()"
   ]
  }
 ],
 "metadata": {
  "kernelspec": {
   "display_name": "Python 3",
   "language": "python",
   "name": "python3"
  },
  "language_info": {
   "codemirror_mode": {
    "name": "ipython",
    "version": 3
   },
   "file_extension": ".py",
   "mimetype": "text/x-python",
   "name": "python",
   "nbconvert_exporter": "python",
   "pygments_lexer": "ipython3",
   "version": "3.8.8"
  }
 },
 "nbformat": 4,
 "nbformat_minor": 5
}
