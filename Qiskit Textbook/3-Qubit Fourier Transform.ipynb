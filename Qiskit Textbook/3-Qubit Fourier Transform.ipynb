{
 "cells": [
  {
   "cell_type": "code",
   "execution_count": 1,
   "id": "0d4ebe59",
   "metadata": {},
   "outputs": [],
   "source": [
    "import numpy as np\n",
    "from numpy import pi\n",
    "# importing Qiskit\n",
    "from qiskit import QuantumCircuit, transpile, assemble, Aer, IBMQ\n",
    "from qiskit.providers.ibmq import least_busy\n",
    "from qiskit.tools.monitor import job_monitor\n",
    "from qiskit.visualization import plot_histogram, plot_bloch_multivector"
   ]
  },
  {
   "cell_type": "code",
   "execution_count": 2,
   "id": "7dab7377",
   "metadata": {},
   "outputs": [],
   "source": [
    "# 3 qubit Fourier Transform"
   ]
  },
  {
   "cell_type": "code",
   "execution_count": 3,
   "id": "fa2a8fb3",
   "metadata": {},
   "outputs": [],
   "source": [
    "qc = QuantumCircuit(3)"
   ]
  },
  {
   "cell_type": "code",
   "execution_count": 4,
   "id": "8f0bd92e",
   "metadata": {},
   "outputs": [
    {
     "data": {
      "text/html": [
       "<pre style=\"word-wrap: normal;white-space: pre;background: #fff0;line-height: 1.1;font-family: &quot;Courier New&quot;,Courier,monospace\">          \n",
       "q_0: ─────\n",
       "          \n",
       "q_1: ─────\n",
       "     ┌───┐\n",
       "q_2: ┤ H ├\n",
       "     └───┘</pre>"
      ],
      "text/plain": [
       "          \n",
       "q_0: ─────\n",
       "          \n",
       "q_1: ─────\n",
       "     ┌───┐\n",
       "q_2: ┤ H ├\n",
       "     └───┘"
      ]
     },
     "execution_count": 4,
     "metadata": {},
     "output_type": "execute_result"
    }
   ],
   "source": [
    "# first apply h to qubit 2\n",
    "qc.h(2)\n",
    "qc.draw()"
   ]
  },
  {
   "cell_type": "code",
   "execution_count": 5,
   "id": "3e9aa532",
   "metadata": {},
   "outputs": [
    {
     "data": {
      "text/html": [
       "<pre style=\"word-wrap: normal;white-space: pre;background: #fff0;line-height: 1.1;font-family: &quot;Courier New&quot;,Courier,monospace\">                   \n",
       "q_0: ──────────────\n",
       "                   \n",
       "q_1: ──────■───────\n",
       "     ┌───┐ │P(π/2) \n",
       "q_2: ┤ H ├─■───────\n",
       "     └───┘         </pre>"
      ],
      "text/plain": [
       "                   \n",
       "q_0: ──────────────\n",
       "                   \n",
       "q_1: ──────■───────\n",
       "     ┌───┐ │P(π/2) \n",
       "q_2: ┤ H ├─■───────\n",
       "     └───┘         "
      ]
     },
     "execution_count": 5,
     "metadata": {},
     "output_type": "execute_result"
    }
   ],
   "source": [
    "# need to turn this qubit a quarter turn if qubit 1 is in the |1> state\n",
    "qc.cp(pi/2, 1, 2)\n",
    "qc.draw()"
   ]
  },
  {
   "cell_type": "code",
   "execution_count": 6,
   "id": "4c534a5d",
   "metadata": {},
   "outputs": [
    {
     "data": {
      "text/html": [
       "<pre style=\"word-wrap: normal;white-space: pre;background: #fff0;line-height: 1.1;font-family: &quot;Courier New&quot;,Courier,monospace\">                            \n",
       "q_0: ───────────────■───────\n",
       "                    │       \n",
       "q_1: ──────■────────┼───────\n",
       "     ┌───┐ │P(π/2)  │P(π/4) \n",
       "q_2: ┤ H ├─■────────■───────\n",
       "     └───┘                  </pre>"
      ],
      "text/plain": [
       "                            \n",
       "q_0: ───────────────■───────\n",
       "                    │       \n",
       "q_1: ──────■────────┼───────\n",
       "     ┌───┐ │P(π/2)  │P(π/4) \n",
       "q_2: ┤ H ├─■────────■───────\n",
       "     └───┘                  "
      ]
     },
     "execution_count": 6,
     "metadata": {},
     "output_type": "execute_result"
    }
   ],
   "source": [
    "# need to turn this qubit another 1/8 turn if lsq (qubit 0) is |1>\n",
    "qc.cp(pi/4, 0, 2)\n",
    "qc.draw()"
   ]
  },
  {
   "cell_type": "code",
   "execution_count": 7,
   "id": "93c42925",
   "metadata": {},
   "outputs": [
    {
     "data": {
      "text/html": [
       "<pre style=\"word-wrap: normal;white-space: pre;background: #fff0;line-height: 1.1;font-family: &quot;Courier New&quot;,Courier,monospace\">                                          ┌───┐\n",
       "q_0: ───────────────■─────────────■───────┤ H ├\n",
       "                    │       ┌───┐ │P(π/2) └───┘\n",
       "q_1: ──────■────────┼───────┤ H ├─■────────────\n",
       "     ┌───┐ │P(π/2)  │P(π/4) └───┘              \n",
       "q_2: ┤ H ├─■────────■──────────────────────────\n",
       "     └───┘                                     </pre>"
      ],
      "text/plain": [
       "                                          ┌───┐\n",
       "q_0: ───────────────■─────────────■───────┤ H ├\n",
       "                    │       ┌───┐ │P(π/2) └───┘\n",
       "q_1: ──────■────────┼───────┤ H ├─■────────────\n",
       "     ┌───┐ │P(π/2)  │P(π/4) └───┘              \n",
       "q_2: ┤ H ├─■────────■──────────────────────────\n",
       "     └───┘                                     "
      ]
     },
     "execution_count": 7,
     "metadata": {},
     "output_type": "execute_result"
    }
   ],
   "source": [
    "# same logic needs to be applied for qubits 0 and 1\n",
    "# qubit 1 logic\n",
    "qc.h(1)\n",
    "qc.cp(pi/2, 0, 1)\n",
    "# qubit 0 logic\n",
    "qc.h(0)\n",
    "qc.draw()"
   ]
  },
  {
   "cell_type": "code",
   "execution_count": 8,
   "id": "b52d0b0e",
   "metadata": {},
   "outputs": [
    {
     "data": {
      "text/html": [
       "<pre style=\"word-wrap: normal;white-space: pre;background: #fff0;line-height: 1.1;font-family: &quot;Courier New&quot;,Courier,monospace\">                                          ┌───┐   \n",
       "q_0: ───────────────■─────────────■───────┤ H ├─X─\n",
       "                    │       ┌───┐ │P(π/2) └───┘ │ \n",
       "q_1: ──────■────────┼───────┤ H ├─■─────────────┼─\n",
       "     ┌───┐ │P(π/2)  │P(π/4) └───┘               │ \n",
       "q_2: ┤ H ├─■────────■───────────────────────────X─\n",
       "     └───┘                                        </pre>"
      ],
      "text/plain": [
       "                                          ┌───┐   \n",
       "q_0: ───────────────■─────────────■───────┤ H ├─X─\n",
       "                    │       ┌───┐ │P(π/2) └───┘ │ \n",
       "q_1: ──────■────────┼───────┤ H ├─■─────────────┼─\n",
       "     ┌───┐ │P(π/2)  │P(π/4) └───┘               │ \n",
       "q_2: ┤ H ├─■────────■───────────────────────────X─\n",
       "     └───┘                                        "
      ]
     },
     "execution_count": 8,
     "metadata": {},
     "output_type": "execute_result"
    }
   ],
   "source": [
    "# need to swap qubits to rearrange in proper order to complete QFT\n",
    "qc.swap(0, 2)\n",
    "qc.draw()"
   ]
  },
  {
   "cell_type": "code",
   "execution_count": null,
   "id": "bbc07cb5",
   "metadata": {},
   "outputs": [],
   "source": []
  }
 ],
 "metadata": {
  "kernelspec": {
   "display_name": "Python 3",
   "language": "python",
   "name": "python3"
  },
  "language_info": {
   "codemirror_mode": {
    "name": "ipython",
    "version": 3
   },
   "file_extension": ".py",
   "mimetype": "text/x-python",
   "name": "python",
   "nbconvert_exporter": "python",
   "pygments_lexer": "ipython3",
   "version": "3.8.8"
  }
 },
 "nbformat": 4,
 "nbformat_minor": 5
}
